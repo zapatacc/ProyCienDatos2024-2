{
 "cells": [
  {
   "metadata": {},
   "cell_type": "markdown",
   "source": [
    "# Examen Final\n",
    "- *Valor 30%*\n",
    "- Se lo mandaré por correo el Martes 19 de Noviembre de 2024\n",
    "- *Fecha de entrega* Viernes 22 de Noviembre de 2024 a las 19:55\n",
    "- No se aceptará entrega después de ese horario. Si hay algún commit/experimento/modelo después de dicha hora, se ignorará para la calificación.\n",
    "- Si el link no es entregado en el plazo establecido, la calificación automáticamente será cero. Se revisa el examen y se entregan correcciones, pero la calificación se mantendrá en cero.\n",
    "## Calificación del examen\n",
    "- La calificación del examen se dividirá en dos partes:\n",
    "    - La entrega y desarrollo del examen: 15%\n",
    "    - Defensa y sustentación oral del examen: 15%\n",
    "## Fecha del revisión del examen\n",
    "- La sustentación oral del examen será el Martes 26 de Noviembre en horario de clase. En su momento les haré llegar el horario de cada uno. Si no llegan puntuales a dicho horario, la calificación será de cero en la sustentación. No hay flexibilidad en el horario.\n",
    "\n",
    "# Proyecto Final\n",
    "- *Valor 30%*\n",
    "- Recuerden la calificación del proyecto se divide en dos partes: \n",
    "    - Informe escrito: 15%\n",
    "    - Defensa y Sustentación oral del proyecto: 15%\n",
    "## Fechas del proyecto\n",
    "- La fecha de entrega del informe escrito será el Martes 26 de Noviembre a las 19:55\n",
    "- La presentación oral del proyecto será el Jueves 28 de Noviembre de 2024 en el horario de clase. Se empezará puntual a las 20:00. El orden de presentación de los equipos será aleatorio. Deben estar todos los integrantes del equipo para presentar. Si a la hora de que el equipo sea llamado a presentar, falta algún integrante (y no tiene una justificación válida para su ausencia), el equipo no podrá presentar y tendrá una calificación de cero en ese apartado del proyecto. Esto no es negociable."
   ],
   "id": "c7d15d0789979e72"
  }
 ],
 "metadata": {
  "kernelspec": {
   "display_name": "Python 3",
   "language": "python",
   "name": "python3"
  },
  "language_info": {
   "codemirror_mode": {
    "name": "ipython",
    "version": 2
   },
   "file_extension": ".py",
   "mimetype": "text/x-python",
   "name": "python",
   "nbconvert_exporter": "python",
   "pygments_lexer": "ipython2",
   "version": "2.7.6"
  }
 },
 "nbformat": 4,
 "nbformat_minor": 5
}
