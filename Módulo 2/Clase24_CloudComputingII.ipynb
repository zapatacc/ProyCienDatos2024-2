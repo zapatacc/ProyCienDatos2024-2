{
 "cells": [
  {
   "cell_type": "markdown",
   "id": "b8cb6141991afa1",
   "metadata": {},
   "source": [
    "# Despliegue de Aplicaciones de ML en AWS: EC2 vs. Fargate"
   ]
  },
  {
   "cell_type": "markdown",
   "id": "c8c4d02c4b44e0f3",
   "metadata": {},
   "source": [
    "## Descripción General del Despliegue en `EC2`\n",
    "\n",
    "### Arquitectura\n",
    "- Despliegue en AWS EC2 usando Docker Compose para orquestar dos contenedores:\n",
    "  - **Contenedor Backend**: Aloja el modelo de ML para la predicción de ETA.\n",
    "  - **Contenedor Frontend**: Proporciona la interfaz de usuario.\n",
    "\n",
    "### Beneficios y Desafíos\n",
    "- **Beneficios**:\n",
    "  - Control total sobre las instancias.\n",
    "  - Opciones flexibles de tipos de instancia y escalado.\n",
    "- **Desafíos**:\n",
    "  - Gestión manual de la infraestructura.\n",
    "  - El mantenimiento y escalado de instancias puede consumir mucho tiempo.\n",
    "\n"
   ]
  },
  {
   "cell_type": "markdown",
   "id": "b470b9d13e0f6e28",
   "metadata": {},
   "source": [
    "## Introducción a AWS Fargate\n",
    "\n",
    "### ¿Qué es AWS Fargate?\n",
    "AWS Fargate es un motor de cómputo sin servidor para contenedores que elimina la necesidad de aprovisionar y gestionar instancias.\n",
    "\n",
    "### Beneficios de Fargate\n",
    "- Simplifica la gestión de la infraestructura.\n",
    "- Escala automáticamente los recursos según la demanda.\n",
    "- Se cobra en función de la asignación de memoria/CPU por tarea, en lugar de por instancia.\n",
    "\n"
   ]
  },
  {
   "cell_type": "markdown",
   "id": "cfa0c8c113e1a193",
   "metadata": {},
   "source": [
    "## Diferencias Clave: EC2 vs. Fargate\n",
    "\n",
    "| Característica            | EC2                          | Fargate                      |\n",
    "|---------------------------|------------------------------|------------------------------|\n",
    "| **Gestión de Instancias** | Manual, administrado por el usuario | Totalmente administrado por AWS |\n",
    "| **Escalado**              | Opciones de Auto Scaling     | Sin servidor, autoescalado   |\n",
    "| **Estructura de Costos**  | Cobro por uso de instancia   | Pago por tarea y memoria/CPU |\n",
    "| **Flexibilidad de Recursos** | Control flexible sobre las VMs | Definiciones de tareas flexibles |\n"
   ]
  },
  {
   "cell_type": "markdown",
   "id": "e7171d054988393d",
   "metadata": {},
   "source": [
    "## Pasos para Configurar AWS Fargate para Despliegue\n",
    "\n",
    "## Paso 1: Crear una Definición de Tarea\n",
    "\n",
    "1. Ir a **Consola ECS > Definiciones de Tareas > Crear nueva definición de tarea**.\n",
    "2. Seleccionar **Fargate** como el tipo de lanzamiento.\n",
    "3. Configurar un **Nombre para la Definición de Tarea**:\n",
    "   - **Nomenclatura Personalizada**: Usa un formato como `nombre-task` (por ejemplo, `cristian-task`).\n",
    "4. Definir tus contenedores:\n",
    "   - **Contenedor del Modelo**:\n",
    "     - Nombre: `nyc-taxi-model-container`\n",
    "     - URI de la imagen Docker: `zapatacc/nyc-taxi-model`\n",
    "     - Puerto del contenedor: `8000`\n",
    "   - **Contenedor de la Interfaz de Usuario (Frontend)**:\n",
    "     - Nombre: `nyc-taxi-ui-container`\n",
    "     - URI de la imagen Docker: `zapatacc/nyc-taxi-ui`\n",
    "     - Puerto del contenedor: `8501`\n",
    "5. Asignar **CPU y Memoria**: 1 vCPU y 2 GB de RAM.\n",
    "6. **Guardar la Definición de Tarea** para usar en el siguiente paso.\n",
    "\n"
   ]
  },
  {
   "cell_type": "markdown",
   "id": "5ee6497bd9dc52dd",
   "metadata": {},
   "source": [
    "## Paso 2: Crear un Servicio y Configurar la Red para Fargate\n",
    "\n",
    "1. **Crear un Servicio desde la Definición de Tarea**:\n",
    "   - Ir a **Consola ECS > Clusters**.\n",
    "   - Seleccionar o crear un **Cluster Fargate**.\n",
    "      - Nombre del Cluster: `nombre-cluster`\n",
    "   - En el cluster, ir a la sección `Service` y seleccionar **Crear Servicio** y elegir la definición de tarea creada en el Paso 1.\n",
    "   - Elegir **Tipo de Servicio**: Usar **Replica** para un escalado sencillo.\n",
    "   - Configurar el **número deseado de tareas** (escalado inicial).\n",
    "\n",
    "2. **Configuración de Red**:\n",
    "   - En el flujo de creación del servicio, encontrar la sección **Networking**:\n",
    "     - **VPC y Subredes**:\n",
    "       - Seleccionar la **VPC** donde correrá el servicio. Para simplificar, usar la VPC por defecto.\n",
    "     - **Grupos de Seguridad**:\n",
    "       - Seleccionar el grupo de seguridad que creaste en la clase anterior. (si no aparece, puede ser porque estás en una región diferente)."
   ]
  }
 ],
 "metadata": {
  "kernelspec": {
   "display_name": "Python 3 (ipykernel)",
   "language": "python",
   "name": "python3"
  },
  "language_info": {
   "codemirror_mode": {
    "name": "ipython",
    "version": 3
   },
   "file_extension": ".py",
   "mimetype": "text/x-python",
   "name": "python",
   "nbconvert_exporter": "python",
   "pygments_lexer": "ipython3",
   "version": "3.12.5"
  }
 },
 "nbformat": 4,
 "nbformat_minor": 5
}
