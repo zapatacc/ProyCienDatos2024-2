{
 "cells": [
  {
   "cell_type": "markdown",
   "metadata": {},
   "source": [
    "# Guía para presentación de proyectos.\n",
    "> Se especifican los componentes básicos que deberá tener el proyecto final del curso `Proyecto en Ciencia de Datos`."
   ]
  },
  {
   "metadata": {},
   "cell_type": "markdown",
   "source": [
    "\n",
    "___\n",
    "## 1. Entregable.\n",
    "Los trabajos deben tener los siguientes componentes básicos.\n",
    "\n",
    "#### 1. **Título del trabajo:**\n",
    "El título del trabajo debe ser una descripción concisa pero informativa del proyecto. Debe reflejar el tema principal y el propósito de la solución que están desarrollando.\n",
    "\n",
    "#### 2. **Introducción:**\n",
    "La introducción es la sección inicial del informe que proporciona una visión general del proyecto. Debe explicar brevemente de qué trata el proyecto, su importancia y su relevancia en el contexto de la ciencia de datos.\n",
    "\n",
    "#### 3. **Antecedentes:**\n",
    "En esta sección, los estudiantes deben proporcionar información contextual sobre el tema del proyecto. Esto podría incluir investigaciones previas, estudios relacionados, tecnologías utilizadas y cualquier otro elemento que respalde la necesidad de abordar este problema.\n",
    "\n",
    "#### 4. **Objetivos:**\n",
    "En esta sección, se deben establecer los objetivos del proyecto. Esto incluye definir claramente lo que se espera lograr con la solución de ciencia de datos.\n",
    "\n",
    "+ **Objetivos Generales:** Los objetivos generales son los propósitos amplios y fundamentales que se persiguen con el proyecto en su conjunto. Estos objetivos proporcionan una visión general de lo que se espera lograr, pero no entran en detalles específicos sobre cómo se lograrán. Son metas amplias que dan dirección al proyecto en su conjunto. En el contexto de un proyecto de ciencia de datos, los objetivos generales establecen el propósito general de aplicar los conceptos de ciencia de datos y MLOPS para resolver un problema real.\n",
    "    \n",
    "+ **Objetivos Específicos:** Los objetivos específicos son metas detalladas y concretas que se establecen para lograr los objetivos generales. Estos objetivos se centran en tareas o logros particulares que deben llevarse a cabo en el transcurso del proyecto. En un proyecto de ciencia de datos, los objetivos específicos pueden incluir pasos concretos como realizar un análisis exploratorio de datos, preprocesar datos, entrenar un modelo, crear una API, conteneirizar el servicio y desplegarlo en la nube. Los objetivos específicos brindan una hoja de ruta detallada para alcanzar los objetivos generales.\n",
    "\n",
    "#### 5. **Planteamiento del problema:**\n",
    "Aquí, los estudiantes deben describir detalladamente el problema que están abordando. Deben explicar por qué es un problema relevante y cómo puede resolverse o mejorarse mediante el uso de técnicas de ciencia de datos.\n",
    "\n",
    "#### 6. **Desarrollo de la solución:**\n",
    "Esta es la parte central del informe y debe dividirse en varias subsecciones:\n",
    "\n",
    "+ **EDA (Análisis Exploratorio de Datos):** Aquí, los estudiantes deben mostrar cómo exploraron y analizaron los datos, identificando tendencias, patrones y características importantes.\n",
    "\n",
    "+ **Data Wrangling:** En esta sección, se describe cómo se limpiaron y prepararon los datos para su análisis, incluyendo la eliminación de valores atípicos y la imputación de datos faltantes.\n",
    "\n",
    "+ **Entrenamiento del modelo con `MLflow`:** En esta parte, se detalla cómo se entrenó el modelo de ciencia de datos. Deben utilizar `MLflow` para registrar los experimentos, incluyendo diferentes configuraciones de modelos y parámetros. Además, deben grabar métricas relevantes para evaluar el rendimiento de los modelos.\n",
    "\n",
    "+ **Selección del mejor modelo:** Con base en los experimentos registrados en `MLflow`, se debe identificar y seleccionar el modelo que mejor desempeño y métricas muestra. Dicho modelo debe ser registrado en el `Registry Model` para posteriormente ser usado.\n",
    "\n",
    "+ **Orquestación - Training Pipeline:** Convertir el flujo de entrenamiento previamente en un flujo de Prefect. \n",
    "\n",
    "+ **Servir el modelo (API) con el mejor desempeño:** Describe cómo se creó una API para servir el modelo con el mejor rendimiento y métricas a través de una interfaz web o un servicio.\n",
    "\n",
    "+ **Interfaz Gráfica:**\n",
    "\n",
    "+ **Conteneirizar del servicio:** Explica cómo se empaquetó el servicio y se subió a una plataforma de nube, lo que puede incluir el uso de contenedores como Docker.\n",
    " \n",
    "+ **Despliegue del servicio en la nube:** Detalla cómo se implementó el servicio en la nube, cómo se configuraron los recursos. La API se despliega utilizando el modelo que ha mostrado el mejor rendimiento y métricas durante los experimentos.\n",
    "\n",
    "#### 7. **Conclusiones:**\n",
    "En esta sección, los estudiantes deben resumir los resultados del proyecto, destacar los logros, discutir los desafíos enfrentados y brindar recomendaciones o posibles mejoras futuras.\n",
    "\n",
    "#### 8. **Referencias:**\n",
    "Los estudiantes deben proporcionar una lista de todas las fuentes, libros, documentos técnicos, sitios web y recursos utilizados durante el proyecto. Esto incluye cualquier bibliografía y recursos citados en el informe.\n"
   ]
  },
  {
   "metadata": {},
   "cell_type": "markdown",
   "source": [
    "NOTA: El proyecto se debe encontrar en un repositorio de `github`.\n",
    "\n",
    "El repositorio debe tener la siguiente estructura recomendada, sin embargo puede adaptarla al caso de uso de su proyecto\n",
    "\n",
    "```\n",
    "├── LICENSE                              # License file for the project.\n",
    "├── README.md                            # Top-level README for developers using this project.\n",
    "├── data\n",
    "│   ├── external                         # Data from third-party sources.\n",
    "│   ├── interim                          # Intermediate data that has been transformed.\n",
    "│   ├── processed                        # The final, canonical data sets for modeling.\n",
    "│   └── raw                              # The original, immutable data dump.\n",
    "├── notebooks                            # Jupyter notebooks for exploration, training, etc.\n",
    "├── Informe Escrito\n",
    "│   └── PrimerNombrePrimerApellido.ipynb\n",
    "├── src\n",
    "│   ├── __init__.py                      # Makes src a Python module.\n",
    "│   ├── docker-compose.yaml              # Docker Compose file to orchestrate containers.\n",
    "│   ├── frontend                         # Source code for the Streamlit user interface.\n",
    "│   │   ├── Dockerfile                   # Dockerfile for building the frontend container.\n",
    "│   │   ├── app.py                       # Streamlit app entry point.\n",
    "│   │   └── requirements.txt             # Frontend-specific Python dependencies.\n",
    "│   ├── backend                          # API source code for model interaction.\n",
    "│   │   ├── Dockerfile                   # Dockerfile for building the backend container.\n",
    "│   │   ├── __init__.py\n",
    "│   │   ├── api.py                       # Example API module.\n",
    "│   │   └── requirements.txt             # Backend-specific Python dependencies.\n",
    "```"
   ]
  },
  {
   "cell_type": "markdown",
   "metadata": {},
   "source": [
    "NOTA: El proyecto se debe encontrar en un repositorio de `dagshub` que al mismo tiempo debe estar ligado a un repositorio en `github`.\n",
    "\n",
    "El repositorio debe tener la siguiente estructura\n",
    "\n",
    "```\n",
    "\n",
    "├── LICENSE                              # License file for the project.\n",
    "├── README.md                            # Top-level README for developers using this project.\n",
    "├── data\n",
    "│   ├── external                         # Data from third-party sources.\n",
    "│   ├── interim                          # Intermediate data that has been transformed.\n",
    "│   ├── processed                        # The final, canonical data sets for modeling.\n",
    "│   └── raw                              # The original, immutable data dump.\n",
    "├── notebooks                            # Jupyter notebooks for exploration, training, etc.\n",
    "├── Informe Escrito\n",
    "│   └── PrimerNombrePrimerApellido.ipynb\n",
    "├── src\n",
    "│   ├── __init__.py                      # Makes src a Python module.\n",
    "│   ├── docker-compose.yaml              # Docker Compose file to orchestrate containers.\n",
    "│   ├── frontend                         # Source code for the Streamlit user interface.\n",
    "│   │   ├── Dockerfile                   # Dockerfile for building the frontend container.\n",
    "│   │   ├── app.py                       # Streamlit app entry point.\n",
    "│   │   └── requirements.txt             # Frontend-specific Python dependencies.\n",
    "│   ├── backend                          # API source code for model interaction.\n",
    "│   │   ├── Dockerfile                   # Dockerfile for building the backend container.\n",
    "│   │   ├── __init__.py\n",
    "│   │   ├── api.py                       # Example API module.\n",
    "│   │   └── requirements.txt             # Backend-specific Python dependencies.\n",
    "```"
   ]
  },
  {
   "cell_type": "markdown",
   "metadata": {},
   "source": [
    "___\n",
    "## 2 Presentación.\n",
    "> Recuerden que la nota del proyecto es mitad el trabajo, y mitad la presentación. Deben hacer una presentación en power point para presentar el trabajo en la clase. La presentación, además de llevar todos los componentes básicos descritos en el entregable, debe llevar una tabla de contenido.\n",
    ">\n",
    "> - Presentación: 25 minutos.\n",
    "> - Seguir estas recomendaciones:\n",
    "    > - https://www.ncsl.org/legislative-staff/lscc/tips-for-making-effective-powerpoint-presentations\n",
    "    > - https://www.trentu.ca/academicskills/how-guides/how-write-university/how-approach-any-assignment/creating-effective-powerpoint-slides"
   ]
  },
  {
   "cell_type": "markdown",
   "metadata": {},
   "source": [
    "<script>\n",
    "  $(document).ready(function(){\n",
    "    $('div.prompt').hide();\n",
    "    $('div.back-to-top').hide();\n",
    "    $('nav#menubar').hide();\n",
    "    $('.breadcrumb').hide();\n",
    "    $('.hidden-print').hide();\n",
    "  });\n",
    "</script>\n",
    "\n",
    "<footer id=\"attribution\" style=\"float:right; color:#808080; background:#fff;\">\n",
    "Created with Jupyter by Cristian Camilo Zapata Zuluaga.\n",
    "</footer>"
   ]
  },
  {
   "cell_type": "code",
   "execution_count": null,
   "metadata": {},
   "outputs": [],
   "source": []
  }
 ],
 "metadata": {
  "kernelspec": {
   "display_name": "Python 3 (ipykernel)",
   "language": "python",
   "name": "python3"
  },
  "language_info": {
   "codemirror_mode": {
    "name": "ipython",
    "version": 3
   },
   "file_extension": ".py",
   "mimetype": "text/x-python",
   "name": "python",
   "nbconvert_exporter": "python",
   "pygments_lexer": "ipython3",
   "version": "3.11.5"
  }
 },
 "nbformat": 4,
 "nbformat_minor": 4
}
